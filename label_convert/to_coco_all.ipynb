{
 "cells": [
  {
   "cell_type": "markdown",
   "source": [
    "# Convert all BDD labels into coco format\r\n",
    "\r\n",
    "To run this file, it has to be put under the folder of bdd100k toolkit, same with `setup.py` .\r\n"
   ],
   "metadata": {}
  },
  {
   "cell_type": "markdown",
   "source": [
    "## Data Structure\r\n",
    "\r\n",
    "The structure of BDD100K box-tracking dataset looks like this:\r\n",
    "\r\n",
    "* bdd100k\r\n",
    "  + labels\r\n",
    "    - box_track_20\r\n",
    "      - train\r\n",
    "      - val\r\n",
    "  + images\r\n",
    "    - track\r\n",
    "      - train\r\n",
    "      - val\r\n",
    "      - test\r\n",
    "\r\n",
    "The required format of the zipfile to be uploaded to BML is:\r\n",
    "\r\n",
    "* xxx.zip\r\n",
    "  + Images\r\n",
    "    - 1.jpg\r\n",
    "    - 2.jpg\r\n",
    "  + Annotations\r\n",
    "    - coco_info.json\r\n",
    "\r\n",
    "![upload requirements](upload_requirements.png)\r\n"
   ],
   "metadata": {}
  },
  {
   "cell_type": "markdown",
   "source": [
    "## Import packages & Set directories\r\n",
    "\r\n",
    "The dataset type `set_type` can either be `'train'` , or `'val'` .\r\n",
    "\r\n",
    "`start` can be `0` , meaning the loop will start from the first directory available, or can be any number indexing the directory you want to start with, sorted alphabetically.\r\n",
    "\r\n",
    "`end` can be `-1` , meaning the script will convert until the very last directory available, or can be any number indexing the directory you want to end with, sorted alphabetically.\r\n"
   ],
   "metadata": {}
  },
  {
   "cell_type": "code",
   "execution_count": null,
   "source": [
    "import os\r\n",
    "import shutil\r\n",
    "import zipfile\r\n",
    "\r\n",
    "set_type = 'train'\r\n",
    "img_home_dir = f'E:\\\\dataset\\\\bdd100k\\\\bdd100k\\\\images\\\\track\\\\{set_type}\\\\'\r\n",
    "label_dir = f'E:\\\\dataset\\\\bdd100k\\\\bdd100k\\\\labels\\\\box_track_20\\\\{set_type}\\\\'\r\n",
    "output_dir = f'C:\\\\Users\\\\XingkuanYu\\\\Desktop\\\\bdd100k\\\\{set_type}\\\\'\r\n",
    "start = 0\r\n",
    "end = 1\r\n"
   ],
   "outputs": [],
   "metadata": {}
  },
  {
   "cell_type": "markdown",
   "source": [
    "## Load directories\r\n",
    "\r\n",
    "This function compares if a directory has both an image folder and a label file, and appends it to `available_dirs` if so.\r\n"
   ],
   "metadata": {}
  },
  {
   "cell_type": "code",
   "execution_count": null,
   "source": [
    "def load_dir(img_home_dir, label_dir):\r\n",
    "    label_dirs = []\r\n",
    "    for dirname, _, filenames in os.walk(label_dir):\r\n",
    "        for filename in filenames:\r\n",
    "            label_dirs.append(filename.strip('.json'))\r\n",
    "\r\n",
    "    img_dirs = []\r\n",
    "    for dirname, _, filenames in os.walk(img_home_dir):\r\n",
    "        img_dirs.append(dirname.split('\\\\')[-1])\r\n",
    "\r\n",
    "    available_dirs = []\r\n",
    "    for dir in label_dirs:\r\n",
    "        if dir in img_dirs:\r\n",
    "            available_dirs.append(dir)\r\n",
    "    available_dirs.sort()\r\n",
    "\r\n",
    "    return available_dirs\r\n"
   ],
   "outputs": [],
   "metadata": {}
  },
  {
   "cell_type": "markdown",
   "source": [
    "## mkdir()\r\n",
    "\r\n",
    "Avoid repetitive use of try...except... statements\r\n"
   ],
   "metadata": {}
  },
  {
   "cell_type": "code",
   "execution_count": null,
   "source": [
    "def mkdir(path):\r\n",
    "    try:\r\n",
    "        os.mkdir(path)\r\n",
    "    except FileExistsError:\r\n",
    "        pass\r\n"
   ],
   "outputs": [],
   "metadata": {}
  },
  {
   "cell_type": "markdown",
   "source": [
    "## Main loop\r\n"
   ],
   "metadata": {}
  },
  {
   "cell_type": "code",
   "execution_count": null,
   "source": [
    "available_dirs = load_dir(img_home_dir, label_dir)\r\n",
    "print(f'[+]{len(available_dirs)} dirs available')\r\n",
    "\r\n",
    "# Loop over all image folders in available dirs\r\n",
    "for i, dir in enumerate(available_dirs[:end]):\r\n",
    "    if i < start:  # not using slicing to mantain index consistency in output\r\n",
    "        continue\r\n",
    "    print(f'\\n[+]Converting {dir} ({i+1}/{len(available_dirs)})...')\r\n",
    "\r\n",
    "    # Generate path\r\n",
    "    image_dir = os.path.join(img_home_dir, dir)\r\n",
    "    label_path = os.path.join(label_dir, f'{dir}.json')\r\n",
    "    output_folder_dir = os.path.join(output_dir, dir)\r\n",
    "    temp_label_path = os.path.join(\r\n",
    "        output_folder_dir, 'Annotations', f'{dir}.json')\r\n",
    "\r\n",
    "    # Make dirs\r\n",
    "    mkdir(output_dir)\r\n",
    "    mkdir(output_folder_dir)\r\n",
    "    mkdir(os.path.join(output_folder_dir, 'Annotations'))\r\n",
    "\r\n",
    "    # Copy images\r\n",
    "    try:\r\n",
    "        shutil.copytree(image_dir,\r\n",
    "                        os.path.join(output_folder_dir, 'Images'))\r\n",
    "    except FileExistsError:\r\n",
    "        pass\r\n",
    "\r\n",
    "    # Convert bdd labels into coco format using built-in converter\r\n",
    "    os.system(f'python -m bdd100k.label.to_coco \\\r\n",
    "                -m box_track -i {label_path} -o {temp_label_path}')\r\n",
    "\r\n",
    "    # Trim the json file removes the 'xxx\\\\' so that BML can process it\r\n",
    "    # e.g., '123456\\\\123456-1.jpg' ==> '123456-1.jpg'\r\n",
    "    with open(temp_label_path, 'r') as temp:\r\n",
    "        with open(os.path.join(output_folder_dir, 'Annotations', 'coco_info.json'), 'w') as label_file:\r\n",
    "            label_file.write(temp.readline().replace(f'{dir}\\\\\\\\', ''))\r\n",
    "\r\n",
    "    # Remove temp label file\r\n",
    "    os.remove(temp_label_path)\r\n",
    "\r\n",
    "    # Compress the folders\r\n",
    "    zip_file = output_folder_dir + '.zip'\r\n",
    "    with zipfile.ZipFile(zip_file, 'w', zipfile.ZIP_DEFLATED) as zip:\r\n",
    "        for dirname, _, filenames in os.walk(output_folder_dir):\r\n",
    "            filepath = dirname.replace(output_folder_dir, '')\r\n",
    "            for filename in filenames:\r\n",
    "                zip.write(os.path.join(dirname, filename),\r\n",
    "                          os.path.join(filepath, filename))\r\n",
    "\r\n",
    "    # Remove unzipped folders\r\n",
    "    shutil.rmtree(output_folder_dir)\r\n"
   ],
   "outputs": [],
   "metadata": {}
  },
  {
   "cell_type": "markdown",
   "source": [
    "## Step-by-step\r\n"
   ],
   "metadata": {}
  },
  {
   "cell_type": "markdown",
   "source": [
    "### Preparation\r\n"
   ],
   "metadata": {}
  },
  {
   "cell_type": "code",
   "execution_count": null,
   "source": [
    "print(f'\\n[+]Converting {dir} ({i+1}/{len(available_dirs)})...')\r\n",
    "\r\n",
    "# Generate path\r\n",
    "image_dir = os.path.join(img_home_dir, dir)\r\n",
    "label_path = os.path.join(label_dir, f'{dir}.json')\r\n",
    "output_folder_dir = os.path.join(output_dir, dir)\r\n",
    "temp_label_path = os.path.join(\r\n",
    "    output_folder_dir, 'Annotations', f'{dir}.json')\r\n",
    "\r\n",
    "# Make dirs\r\n",
    "mkdir(output_dir)\r\n",
    "mkdir(output_folder_dir)\r\n",
    "mkdir(os.path.join(output_folder_dir, 'Annotations'))"
   ],
   "outputs": [],
   "metadata": {}
  },
  {
   "cell_type": "markdown",
   "source": [
    "### Copy images\r\n"
   ],
   "metadata": {}
  },
  {
   "cell_type": "code",
   "execution_count": null,
   "source": [
    "try:\r\n",
    "    shutil.copytree(image_dir,\r\n",
    "                    os.path.join(output_folder_dir, 'Images'))\r\n",
    "except FileExistsError:\r\n",
    "    pass"
   ],
   "outputs": [],
   "metadata": {}
  },
  {
   "cell_type": "markdown",
   "source": [
    "### Convert bdd labels into coco format using built-in converter\r\n"
   ],
   "metadata": {}
  },
  {
   "cell_type": "code",
   "execution_count": null,
   "source": [
    "os.system(f'python -m bdd100k.label.to_coco \\\r\n",
    "            -m box_track -i {label_path} -o {temp_label_path}')"
   ],
   "outputs": [],
   "metadata": {}
  },
  {
   "cell_type": "markdown",
   "source": [
    "### Trim the json file removes the 'xxx\\\\' so that BML can process it\r\n",
    "\r\n",
    "e.g., '123456\\\\\\\\123456-1.jpg' ==> '123456-1.jpg'\r\n"
   ],
   "metadata": {}
  },
  {
   "cell_type": "code",
   "execution_count": null,
   "source": [
    "with open(temp_label_path, 'r') as temp:\r\n",
    "    with open(os.path.join(output_folder_dir, 'Annotations', 'coco_info.json'), 'w') as label_file:\r\n",
    "        label_file.write(temp.readline().replace(f'{dir}\\\\\\\\', ''))"
   ],
   "outputs": [],
   "metadata": {}
  },
  {
   "cell_type": "markdown",
   "source": [
    "### Remove temp label file\r\n"
   ],
   "metadata": {}
  },
  {
   "cell_type": "code",
   "execution_count": null,
   "source": [
    "os.remove(temp_label_path)"
   ],
   "outputs": [],
   "metadata": {}
  },
  {
   "cell_type": "markdown",
   "source": [
    "### Compress the folders\r\n"
   ],
   "metadata": {}
  },
  {
   "cell_type": "code",
   "execution_count": null,
   "source": [
    "zip_file = output_folder_dir + '.zip'\r\n",
    "with zipfile.ZipFile(zip_file, 'w', zipfile.ZIP_DEFLATED) as zip:\r\n",
    "    for dirname, _, filenames in os.walk(output_folder_dir):\r\n",
    "        filepath = dirname.replace(output_folder_dir, '')\r\n",
    "        for filename in filenames:\r\n",
    "            zip.write(os.path.join(dirname, filename),\r\n",
    "                      os.path.join(filepath, filename))"
   ],
   "outputs": [],
   "metadata": {}
  },
  {
   "cell_type": "markdown",
   "source": [
    "### Remove unzipped folders\r\n"
   ],
   "metadata": {}
  },
  {
   "cell_type": "code",
   "execution_count": null,
   "source": [
    "shutil.rmtree(output_folder_dir)"
   ],
   "outputs": [],
   "metadata": {}
  }
 ],
 "metadata": {
  "orig_nbformat": 4,
  "language_info": {
   "name": "python",
   "version": "3.8.11",
   "mimetype": "text/x-python",
   "codemirror_mode": {
    "name": "ipython",
    "version": 3
   },
   "pygments_lexer": "ipython3",
   "nbconvert_exporter": "python",
   "file_extension": ".py"
  },
  "kernelspec": {
   "name": "python3",
   "display_name": "Python 3.8.11 64-bit ('base': conda)"
  },
  "interpreter": {
   "hash": "a707b6ce8c685eb936424fcc3009d4b4b7a52543c4db09380a3fc49186ceb509"
  }
 },
 "nbformat": 4,
 "nbformat_minor": 2
}