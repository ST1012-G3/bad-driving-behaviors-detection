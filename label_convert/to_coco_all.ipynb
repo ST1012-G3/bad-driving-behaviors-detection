{
 "cells": [
  {
   "cell_type": "markdown",
   "source": [
    "# Convert all BDD labels into coco format\r\n",
    "\r\n",
    "To run this file, it has to be put under the folder of bdd100k toolkit, same with `setup.py`.\r\n"
   ],
   "metadata": {}
  },
  {
   "cell_type": "markdown",
   "source": [
    "## Data Structure\r\n",
    "\r\n",
    "The structure of BDD100K box-tracking dataset looks like this:\r\n",
    "\r\n",
    "- bdd100k\r\n",
    "  - labels\r\n",
    "    - box_track_20\r\n",
    "      - train\r\n",
    "      - val\r\n",
    "  - images\r\n",
    "    - track\r\n",
    "      - train\r\n",
    "      - val\r\n",
    "      - test\r\n",
    "\r\n",
    "The required format of the zipfile to be uploaded to BML is:\r\n",
    "\r\n",
    "- xxx.zip\r\n",
    "  - Images\r\n",
    "    - 1.jpg\r\n",
    "    - 2.jpg\r\n",
    "  - Annotations\r\n",
    "    - coco_info.json\r\n",
    "\r\n",
    "![upload requirements](upload_requirements.png)"
   ],
   "metadata": {}
  },
  {
   "cell_type": "markdown",
   "source": [
    "## Import packages & Set directories\r\n",
    "\r\n",
    "The dataset type `set_type` can either be `'train'`, or `'val'`.\r\n",
    "\r\n",
    "`start` can be `0`, meaning the loop will start from the first directory available, or can be any number indexing the directory you want to start with, sorted alphabetically.\r\n",
    "\r\n",
    "`end` can be `-1`, meaning the script will convert until the very last directory available, or can be any number indexing the directory you want to end with, sorted alphabetically.\r\n"
   ],
   "metadata": {}
  },
  {
   "cell_type": "code",
   "execution_count": 17,
   "source": [
    "import os\r\n",
    "import shutil\r\n",
    "import zipfile\r\n",
    "\r\n",
    "set_type = 'train'\r\n",
    "img_home_dir = f'E:\\\\dataset\\\\bdd100k\\\\bdd100k\\\\images\\\\track\\\\{set_type}\\\\'\r\n",
    "label_dir = f'E:\\\\dataset\\\\bdd100k\\\\bdd100k\\\\labels\\\\box_track_20\\\\{set_type}\\\\'\r\n",
    "output_dir = f'C:\\\\Users\\XingkuanYu\\\\Desktop\\\\bdd100k\\\\{set_type}\\\\'\r\n",
    "start = 0\r\n",
    "end = 1\r\n"
   ],
   "outputs": [],
   "metadata": {}
  },
  {
   "cell_type": "markdown",
   "source": [
    "## Load directories\r\n",
    "\r\n",
    "This function compares if a directory has both an image folder and a label file, and appends it to `available_dirs` if so.\r\n"
   ],
   "metadata": {}
  },
  {
   "cell_type": "code",
   "execution_count": 18,
   "source": [
    "def load_dir(img_home_dir, label_dir):\r\n",
    "    label_dirs = []\r\n",
    "    for dirname, _, filenames in os.walk(label_dir):\r\n",
    "        for filename in filenames:\r\n",
    "            label_dirs.append(filename.strip('.json'))\r\n",
    "\r\n",
    "    img_dirs = []\r\n",
    "    for dirname, _, filenames in os.walk(img_home_dir):\r\n",
    "        img_dirs.append(dirname.split('\\\\')[-1])\r\n",
    "\r\n",
    "    available_dirs = []\r\n",
    "    for dir in label_dirs:\r\n",
    "        if dir in img_dirs:\r\n",
    "            available_dirs.append(dir)\r\n",
    "    available_dirs.sort()\r\n",
    "\r\n",
    "    return available_dirs\r\n"
   ],
   "outputs": [],
   "metadata": {}
  },
  {
   "cell_type": "markdown",
   "source": [
    "## mkdir()\r\n",
    "\r\n",
    "Avoid repetitive use of try...except... statements\r\n"
   ],
   "metadata": {}
  },
  {
   "cell_type": "code",
   "execution_count": 19,
   "source": [
    "def mkdir(path):\r\n",
    "    try:\r\n",
    "        os.mkdir(path)\r\n",
    "    except FileExistsError:\r\n",
    "        pass\r\n"
   ],
   "outputs": [],
   "metadata": {}
  },
  {
   "cell_type": "markdown",
   "source": [
    "## Main loop"
   ],
   "metadata": {}
  },
  {
   "cell_type": "code",
   "execution_count": 21,
   "source": [
    "available_dirs = load_dir(img_home_dir, label_dir)\r\n",
    "print(f'[+]{len(available_dirs)} dirs available')\r\n",
    "\r\n",
    "# Loop over all image folders in available dirs\r\n",
    "for i, dir in enumerate(available_dirs[:end]):\r\n",
    "    if i < start:  # not using slicing to mantain index consistency in output\r\n",
    "        continue\r\n",
    "    print(f'\\n[+]Converting {dir} ({i+1}/{len(available_dirs)})...')\r\n",
    "\r\n",
    "    # Generate path\r\n",
    "    image_dir = os.path.join(img_home_dir, dir)\r\n",
    "    label_path = os.path.join(label_dir, f'{dir}.json')\r\n",
    "    output_folder_dir = os.path.join(output_dir, dir)\r\n",
    "    temp_label_path = os.path.join(\r\n",
    "        output_folder_dir, 'Annotations', f'{dir}.json')\r\n",
    "\r\n",
    "    # Make dirs\r\n",
    "    mkdir(output_dir)\r\n",
    "    mkdir(output_folder_dir)\r\n",
    "    mkdir(os.path.join(output_folder_dir, 'Annotations'))\r\n",
    "\r\n",
    "    # Copy images\r\n",
    "    try:\r\n",
    "        shutil.copytree(image_dir,\r\n",
    "                        os.path.join(output_folder_dir, 'Images'))\r\n",
    "    except FileExistsError:\r\n",
    "        pass\r\n",
    "\r\n",
    "    # Convert bdd labels into coco format using built-in converter\r\n",
    "    os.system(f'python -m bdd100k.label.to_coco \\\r\n",
    "                -m box_track -i {label_path} -o {temp_label_path}')\r\n",
    "\r\n",
    "    # Trim the json file removes the 'xxx\\\\' so that BML can process it\r\n",
    "    # e.g., '123456\\\\123456-1.jpg' ==> '123456-1.jpg'\r\n",
    "    with open(temp_label_path, 'r') as temp:\r\n",
    "        with open(os.path.join(output_folder_dir, 'Annotations', 'coco_info.json'), 'w') as label_file:\r\n",
    "            label_file.write(temp.readline().replace(f'{dir}\\\\\\\\', ''))\r\n",
    "\r\n",
    "    # Remove temp label file\r\n",
    "    os.remove(temp_label_path)\r\n",
    "\r\n",
    "    # Compress the folders\r\n",
    "    zip_file = output_folder_dir + '.zip'\r\n",
    "    with zipfile.ZipFile(zip_file, 'w', zipfile.ZIP_DEFLATED) as zip:\r\n",
    "        for dirname, _, filenames in os.walk(output_folder_dir):\r\n",
    "            filepath = dirname.replace(output_folder_dir, '')\r\n",
    "            for filename in filenames:\r\n",
    "                zip.write(os.path.join(dirname, filename),\r\n",
    "                          os.path.join(filepath, filename))\r\n",
    "\r\n",
    "    # Remove unzipped folders\r\n",
    "    shutil.rmtree(output_folder_dir)\r\n"
   ],
   "outputs": [
    {
     "output_type": "stream",
     "name": "stdout",
     "text": [
      "[+]200 dirs available\n",
      "\n",
      "[+]Converting 0000f77c-6257be58 (1/200)...\n"
     ]
    },
    {
     "output_type": "error",
     "ename": "CalledProcessError",
     "evalue": "Command 'python -m bdd100k.label.to_coco -m box_track         -i E:\\dataset\\bdd100k\\bdd100k\\labels\\box_track_20\\train\\0000f77c-6257be58.json -o C:\\Users\\XingkuanYu\\Desktop\\bdd100k\\train\\0000f77c-6257be58\\Annotations\\0000f77c-6257be58.json' returned non-zero exit status 1.",
     "traceback": [
      "\u001b[1;31m---------------------------------------------------------------------------\u001b[0m",
      "\u001b[1;31mCalledProcessError\u001b[0m                        Traceback (most recent call last)",
      "\u001b[1;32mC:\\Users\\XINGKU~1\\AppData\\Local\\Temp/ipykernel_18744/2340033079.py\u001b[0m in \u001b[0;36m<module>\u001b[1;34m\u001b[0m\n\u001b[0;32m     30\u001b[0m     \u001b[1;31m# os.system(f'python -m bdd100k.label.to_coco \\\u001b[0m\u001b[1;33m\u001b[0m\u001b[1;33m\u001b[0m\u001b[1;33m\u001b[0m\u001b[0m\n\u001b[0;32m     31\u001b[0m     \u001b[1;31m#             -m box_track -i {label_path} -o {temp_label_path}')\u001b[0m\u001b[1;33m\u001b[0m\u001b[1;33m\u001b[0m\u001b[1;33m\u001b[0m\u001b[0m\n\u001b[1;32m---> 32\u001b[1;33m     subprocess.check_call(f'python -m bdd100k.label.to_coco -m box_track \\\n\u001b[0m\u001b[0;32m     33\u001b[0m         -i {label_path} -o {temp_label_path}', cwd='D:\\\\Downloads\\\\bdd100k_code')\n\u001b[0;32m     34\u001b[0m \u001b[1;33m\u001b[0m\u001b[0m\n",
      "\u001b[1;32mC:\\tools\\Anaconda3\\lib\\subprocess.py\u001b[0m in \u001b[0;36mcheck_call\u001b[1;34m(*popenargs, **kwargs)\u001b[0m\n\u001b[0;32m    362\u001b[0m         \u001b[1;32mif\u001b[0m \u001b[0mcmd\u001b[0m \u001b[1;32mis\u001b[0m \u001b[1;32mNone\u001b[0m\u001b[1;33m:\u001b[0m\u001b[1;33m\u001b[0m\u001b[1;33m\u001b[0m\u001b[0m\n\u001b[0;32m    363\u001b[0m             \u001b[0mcmd\u001b[0m \u001b[1;33m=\u001b[0m \u001b[0mpopenargs\u001b[0m\u001b[1;33m[\u001b[0m\u001b[1;36m0\u001b[0m\u001b[1;33m]\u001b[0m\u001b[1;33m\u001b[0m\u001b[1;33m\u001b[0m\u001b[0m\n\u001b[1;32m--> 364\u001b[1;33m         \u001b[1;32mraise\u001b[0m \u001b[0mCalledProcessError\u001b[0m\u001b[1;33m(\u001b[0m\u001b[0mretcode\u001b[0m\u001b[1;33m,\u001b[0m \u001b[0mcmd\u001b[0m\u001b[1;33m)\u001b[0m\u001b[1;33m\u001b[0m\u001b[1;33m\u001b[0m\u001b[0m\n\u001b[0m\u001b[0;32m    365\u001b[0m     \u001b[1;32mreturn\u001b[0m \u001b[1;36m0\u001b[0m\u001b[1;33m\u001b[0m\u001b[1;33m\u001b[0m\u001b[0m\n\u001b[0;32m    366\u001b[0m \u001b[1;33m\u001b[0m\u001b[0m\n",
      "\u001b[1;31mCalledProcessError\u001b[0m: Command 'python -m bdd100k.label.to_coco -m box_track         -i E:\\dataset\\bdd100k\\bdd100k\\labels\\box_track_20\\train\\0000f77c-6257be58.json -o C:\\Users\\XingkuanYu\\Desktop\\bdd100k\\train\\0000f77c-6257be58\\Annotations\\0000f77c-6257be58.json' returned non-zero exit status 1."
     ]
    }
   ],
   "metadata": {}
  }
 ],
 "metadata": {
  "orig_nbformat": 4,
  "language_info": {
   "name": "python",
   "version": "3.8.11",
   "mimetype": "text/x-python",
   "codemirror_mode": {
    "name": "ipython",
    "version": 3
   },
   "pygments_lexer": "ipython3",
   "nbconvert_exporter": "python",
   "file_extension": ".py"
  },
  "kernelspec": {
   "name": "python3",
   "display_name": "Python 3.8.11 64-bit ('base': conda)"
  },
  "interpreter": {
   "hash": "a707b6ce8c685eb936424fcc3009d4b4b7a52543c4db09380a3fc49186ceb509"
  }
 },
 "nbformat": 4,
 "nbformat_minor": 2
}